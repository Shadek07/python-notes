{
 "cells": [
  {
   "cell_type": "markdown",
   "metadata": {},
   "source": [
    "# Python Notes"
   ]
  },
  {
   "cell_type": "markdown",
   "metadata": {},
   "source": [
    "## Numbers, Strings, Lists\n",
    "\n",
    "This part corresponds to the [the 3rd chapter](https://docs.python.org/3.4/tutorial/introduction.html) of the Python tutorial.\n",
    "\n",
    "What will the following cells print?"
   ]
  },
  {
   "cell_type": "code",
   "execution_count": null,
   "metadata": {
    "collapsed": false
   },
   "outputs": [],
   "source": [
    "a = [0, 1, 2, 3]\n",
    "a[1:2] = [13, 14, 15]\n",
    "print(a[2])"
   ]
  },
  {
   "cell_type": "code",
   "execution_count": null,
   "metadata": {
    "collapsed": false
   },
   "outputs": [],
   "source": [
    "a = [0, 1, 2, 3]\n",
    "a[-3:] = [2]\n",
    "print(a[-1])"
   ]
  },
  {
   "cell_type": "markdown",
   "metadata": {
    "collapsed": true
   },
   "source": [
    "## Functions"
   ]
  },
  {
   "cell_type": "markdown",
   "metadata": {},
   "source": [
    "This part corresponds to the [4th chapter](https://docs.python.org/3.4/tutorial/controlflow.html) of the Python tutorial.\n",
    "\n",
    "What will the following cells print?"
   ]
  },
  {
   "cell_type": "code",
   "execution_count": null,
   "metadata": {
    "collapsed": false
   },
   "outputs": [],
   "source": [
    "x = range(5)\n",
    "\n",
    "result = []\n",
    "\n",
    "for i in x:\n",
    "    result.append(i)\n",
    "\n",
    "for i in x:\n",
    "    result.append(i)\n",
    "    \n",
    "print(len(result))"
   ]
  },
  {
   "cell_type": "code",
   "execution_count": null,
   "metadata": {
    "collapsed": false
   },
   "outputs": [],
   "source": [
    "def foo(n):\n",
    "    for i in range(n):\n",
    "        yield i\n",
    "\n",
    "x = foo(5)\n",
    "result = []\n",
    "\n",
    "for i in x:\n",
    "    result.append(i)\n",
    "\n",
    "for i in x:\n",
    "    result.append(i)\n",
    "    \n",
    "print(len(result))"
   ]
  },
  {
   "cell_type": "code",
   "execution_count": null,
   "metadata": {
    "collapsed": false
   },
   "outputs": [],
   "source": [
    "foo = lambda n: range(n)\n",
    "\n",
    "x = foo(5)\n",
    "result = []\n",
    "\n",
    "for i in x:\n",
    "    result.append(i)\n",
    "\n",
    "for i in x:\n",
    "    result.append(i)\n",
    "    \n",
    "print(len(result))"
   ]
  },
  {
   "cell_type": "markdown",
   "metadata": {
    "collapsed": true
   },
   "source": [
    "***"
   ]
  },
  {
   "cell_type": "code",
   "execution_count": null,
   "metadata": {
    "collapsed": false
   },
   "outputs": [],
   "source": [
    "def foo(a):\n",
    "    if a == 1:\n",
    "        print(\"One\")\n",
    "    elif a % 2 == 0:\n",
    "        print(\"Even\")\n",
    "    elif a % 7 == 0:\n",
    "        pass\n",
    "    else:\n",
    "        print(\"Blah\")\n",
    "\n",
    "num = 14\n",
    "foo(num)\n",
    "\n"
   ]
  },
  {
   "cell_type": "code",
   "execution_count": null,
   "metadata": {
    "collapsed": false
   },
   "outputs": [],
   "source": [
    "l = [1, 2, 4, 5, 13]\n",
    "for num in l:\n",
    "    if num % 3 == 0:\n",
    "        print(\"3 | {}\", num)\n",
    "        break\n",
    "else:\n",
    "    print(\"Nope\")"
   ]
  },
  {
   "cell_type": "markdown",
   "metadata": {},
   "source": [
    "***"
   ]
  },
  {
   "cell_type": "code",
   "execution_count": null,
   "metadata": {
    "collapsed": false
   },
   "outputs": [],
   "source": [
    "def foo(x, a = []):\n",
    "    a.append(x)\n",
    "    return(len(a))\n",
    "\n",
    "chars = []\n",
    "\n",
    "foo(5)\n",
    "foo(2)\n",
    "foo('a', chars)\n",
    "result = foo(6)\n",
    "\n",
    "print(result)"
   ]
  },
  {
   "cell_type": "code",
   "execution_count": null,
   "metadata": {
    "collapsed": false
   },
   "outputs": [],
   "source": [
    "L = []\n",
    "\n",
    "def foo(x, a = L):\n",
    "    a.append(x)\n",
    "    return(len(a))\n",
    "\n",
    "foo(5)\n",
    "foo(2)\n",
    "L.append(21)\n",
    "result = foo(6)\n",
    "\n",
    "print(result)"
   ]
  },
  {
   "cell_type": "code",
   "execution_count": null,
   "metadata": {
    "collapsed": false
   },
   "outputs": [],
   "source": [
    "L = []\n",
    "\n",
    "def foo(x, a = L[:]):\n",
    "    a.append(x)\n",
    "    return(len(a))\n",
    "\n",
    "foo(5)\n",
    "foo(2)\n",
    "L.append(21)\n",
    "result = foo(6)\n",
    "\n",
    "print(result)"
   ]
  },
  {
   "cell_type": "markdown",
   "metadata": {},
   "source": [
    "***"
   ]
  },
  {
   "cell_type": "code",
   "execution_count": null,
   "metadata": {
    "collapsed": false
   },
   "outputs": [],
   "source": [
    "def foo():\n",
    "    pass\n",
    "\n",
    "a = foo()\n",
    "print(a)"
   ]
  },
  {
   "cell_type": "code",
   "execution_count": null,
   "metadata": {
    "collapsed": false
   },
   "outputs": [],
   "source": [
    "b = 13\n",
    "\n",
    "def foo(a, b = b):\n",
    "    b += a\n",
    "    return b\n",
    "\n",
    "b = foo(1, 3)\n",
    "foo(5, 4)\n",
    "foo(2)\n",
    "\n",
    "result = foo(1)\n",
    "print(result)"
   ]
  },
  {
   "cell_type": "markdown",
   "metadata": {},
   "source": [
    "***"
   ]
  },
  {
   "cell_type": "code",
   "execution_count": null,
   "metadata": {
    "collapsed": false
   },
   "outputs": [],
   "source": [
    "def boo(a, b, *other):\n",
    "    f = sum(other)\n",
    "    result = (a + b) * f\n",
    "    return result\n",
    "\n",
    "result = boo(3, 2, 1, 1)\n",
    "print(result)"
   ]
  },
  {
   "cell_type": "code",
   "execution_count": null,
   "metadata": {
    "collapsed": false
   },
   "outputs": [],
   "source": [
    "def hoo(a, b, *other):\n",
    "    f = sum(other)\n",
    "    result = (a + b) * f\n",
    "    return result\n",
    "\n",
    "args = list(range(3, 1, -1))\n",
    "result = boo(*args)\n",
    "print(result)"
   ]
  },
  {
   "cell_type": "code",
   "execution_count": null,
   "metadata": {
    "collapsed": false
   },
   "outputs": [],
   "source": [
    "def g(a, b = 1, *args):\n",
    "    s = a + b\n",
    "    if args:\n",
    "        s *= args[0]\n",
    "       \n",
    "    return s\n",
    "\n",
    "result = g(2, 3, 4)\n",
    "print(result)"
   ]
  },
  {
   "cell_type": "code",
   "execution_count": null,
   "metadata": {
    "collapsed": false
   },
   "outputs": [],
   "source": [
    "def g(a, b = 1, *args):\n",
    "    s = a + b\n",
    "    if args:\n",
    "        s *= args[0]\n",
    "       \n",
    "    return s\n",
    "\n",
    "result = g(2, 4)\n",
    "print(result)"
   ]
  },
  {
   "cell_type": "code",
   "execution_count": null,
   "metadata": {
    "collapsed": false
   },
   "outputs": [],
   "source": [
    "def g(a, b = 1, *args, **kwds):\n",
    "    s = a + b\n",
    "    if args:\n",
    "        s *= args[0]\n",
    "    \n",
    "    if 'minus' in kwds:\n",
    "        s -= kwds['minus']\n",
    "        \n",
    "    return s\n",
    "\n",
    "result = g(9, 1, 3, minus = 2)\n",
    "print(result)"
   ]
  },
  {
   "cell_type": "markdown",
   "metadata": {
    "collapsed": true
   },
   "source": [
    "***"
   ]
  },
  {
   "cell_type": "markdown",
   "metadata": {},
   "source": [
    "## Data structures\n",
    "\n",
    "This part corresponds to the [5th chapter](https://docs.python.org/3.4/tutorial/datastructures.html) of the Python tutorial.\n",
    "\n",
    "What do the following cells print?"
   ]
  },
  {
   "cell_type": "code",
   "execution_count": null,
   "metadata": {
    "collapsed": false
   },
   "outputs": [],
   "source": [
    "a = [1, 2, 3, 4]\n",
    "print(a.pop())"
   ]
  },
  {
   "cell_type": "code",
   "execution_count": null,
   "metadata": {
    "collapsed": false
   },
   "outputs": [],
   "source": [
    "a = [1, 2, 3, 4]\n",
    "a.pop()\n",
    "print(a[-1])"
   ]
  },
  {
   "cell_type": "code",
   "execution_count": null,
   "metadata": {
    "collapsed": false
   },
   "outputs": [],
   "source": [
    "a = [1, 2, 3, 4]\n",
    "a.clear()\n",
    "print(len(a))"
   ]
  },
  {
   "cell_type": "code",
   "execution_count": null,
   "metadata": {
    "collapsed": false
   },
   "outputs": [],
   "source": [
    "a = [1, 2, 3, 4]\n",
    "b = a[:]\n",
    "b[-1] = 2\n",
    "print(a[-1])"
   ]
  },
  {
   "cell_type": "code",
   "execution_count": null,
   "metadata": {
    "collapsed": false
   },
   "outputs": [],
   "source": [
    "a = [1, 2, 3, 4]\n",
    "b = a\n",
    "b[-1] = 2\n",
    "print(a[-1])"
   ]
  },
  {
   "cell_type": "code",
   "execution_count": null,
   "metadata": {
    "collapsed": false
   },
   "outputs": [],
   "source": [
    "a = [1, 2, 3, 4]\n",
    "b = a.copy()\n",
    "b[-1] = 2\n",
    "print(a[-1])"
   ]
  },
  {
   "cell_type": "code",
   "execution_count": null,
   "metadata": {
    "collapsed": false
   },
   "outputs": [],
   "source": [
    "a = [1, 2, 3, 4]\n",
    "a.append(-1)\n",
    "a.append(-2)\n",
    "print(a[-2])"
   ]
  },
  {
   "cell_type": "markdown",
   "metadata": {},
   "source": [
    "***"
   ]
  },
  {
   "cell_type": "markdown",
   "metadata": {},
   "source": [
    "Explain with an example why using `collections.deque` to simulate a queue is more efficient than using a built-in list."
   ]
  },
  {
   "cell_type": "code",
   "execution_count": null,
   "metadata": {
    "collapsed": true
   },
   "outputs": [],
   "source": [
    "N = 10000"
   ]
  },
  {
   "cell_type": "markdown",
   "metadata": {},
   "source": [
    "#### Insert from left, pop from right"
   ]
  },
  {
   "cell_type": "code",
   "execution_count": null,
   "metadata": {
    "collapsed": false
   },
   "outputs": [],
   "source": [
    "%%timeit\n",
    "queue = []\n",
    "\n",
    "# fill up queue from left\n",
    "for n in range(N):\n",
    "    queue.insert(0, n)\n",
    "\n",
    "# empty queue from right\n",
    "while queue:\n",
    "    queue.pop()"
   ]
  },
  {
   "cell_type": "code",
   "execution_count": null,
   "metadata": {
    "collapsed": false
   },
   "outputs": [],
   "source": [
    "%%timeit\n",
    "queue = deque([])\n",
    "\n",
    "# fill up queue from left\n",
    "for n in range(N):\n",
    "    queue.appendleft(n)\n",
    "    \n",
    "# empty queue from right\n",
    "while queue:\n",
    "    queue.pop()"
   ]
  },
  {
   "cell_type": "markdown",
   "metadata": {},
   "source": [
    "#### Insert from right, pop from left"
   ]
  },
  {
   "cell_type": "code",
   "execution_count": null,
   "metadata": {
    "collapsed": true
   },
   "outputs": [],
   "source": [
    "from collections import deque"
   ]
  },
  {
   "cell_type": "code",
   "execution_count": null,
   "metadata": {
    "collapsed": false
   },
   "outputs": [],
   "source": [
    "%%timeit\n",
    "queue = []\n",
    "\n",
    "# fill up queue from right\n",
    "for n in range(N):\n",
    "    queue.append(n)\n",
    "\n",
    "# empty queue from left\n",
    "while queue:\n",
    "    queue.pop(0)"
   ]
  },
  {
   "cell_type": "code",
   "execution_count": null,
   "metadata": {
    "collapsed": false
   },
   "outputs": [],
   "source": [
    "%%timeit\n",
    "queue = deque([])\n",
    "\n",
    "# fill up queue from right\n",
    "for n in range(N):\n",
    "    queue.append(n)\n",
    "\n",
    "# empty queue from left\n",
    "while queue:\n",
    "    queue.popleft()"
   ]
  },
  {
   "cell_type": "markdown",
   "metadata": {
    "collapsed": true
   },
   "source": [
    "### List comprehensions"
   ]
  },
  {
   "cell_type": "markdown",
   "metadata": {},
   "source": [
    "What is the output of the cells?"
   ]
  },
  {
   "cell_type": "code",
   "execution_count": null,
   "metadata": {
    "collapsed": false
   },
   "outputs": [],
   "source": [
    "a = [y for x in range(3) if x != 1 for y in range(2) if x + y == 3]\n",
    "print(len(a))"
   ]
  },
  {
   "cell_type": "code",
   "execution_count": null,
   "metadata": {
    "collapsed": false
   },
   "outputs": [],
   "source": [
    "a = [[y for y in range(1, i) if i % y == 0] for i in range(10)]\n",
    "print(len(a[0]))\n",
    "print(len(a[-1]))"
   ]
  },
  {
   "cell_type": "code",
   "execution_count": null,
   "metadata": {
    "collapsed": false
   },
   "outputs": [],
   "source": [
    "C = 4\n",
    "R = 2\n",
    "a = [[r for r in range(C)] for c in range(R)]\n",
    "\n",
    "b = [[r[c] for r in a] for c in range(C)]\n",
    "print(b[C-1][0])\n",
    "print(b[0][R-1])"
   ]
  },
  {
   "cell_type": "markdown",
   "metadata": {},
   "source": [
    "### Del statement"
   ]
  },
  {
   "cell_type": "code",
   "execution_count": null,
   "metadata": {
    "collapsed": false
   },
   "outputs": [],
   "source": [
    "a = [1, 2, 3, 4]\n",
    "del a[2]\n",
    "print(len(a))"
   ]
  },
  {
   "cell_type": "code",
   "execution_count": null,
   "metadata": {
    "collapsed": false
   },
   "outputs": [],
   "source": [
    "a = [1, 2, 3, 4]\n",
    "del a[2:]\n",
    "print(len(a))"
   ]
  },
  {
   "cell_type": "code",
   "execution_count": null,
   "metadata": {
    "collapsed": false
   },
   "outputs": [],
   "source": [
    "a = [1, 2, 3, 4]\n",
    "del a[:]\n",
    "print(len(a))"
   ]
  },
  {
   "cell_type": "code",
   "execution_count": null,
   "metadata": {
    "collapsed": false
   },
   "outputs": [],
   "source": [
    "a = [1, 2, 3]\n",
    "b = [1, 2, a, 4]\n",
    "del a\n",
    "\n",
    "try:\n",
    "    print(b[3])\n",
    "except:\n",
    "    print(-1)"
   ]
  },
  {
   "cell_type": "code",
   "execution_count": null,
   "metadata": {
    "collapsed": false
   },
   "outputs": [],
   "source": [
    "a = [1, 2, 3]\n",
    "b = [1, 2, a, 4]\n",
    "del b[2]\n",
    "\n",
    "try:\n",
    "    print(a[0])\n",
    "except:\n",
    "    print(-1)"
   ]
  },
  {
   "cell_type": "markdown",
   "metadata": {},
   "source": [
    "### Tuples"
   ]
  },
  {
   "cell_type": "code",
   "execution_count": null,
   "metadata": {
    "collapsed": false
   },
   "outputs": [],
   "source": [
    "t = 4, 5, 6\n",
    "\n",
    "try:\n",
    "    t[0] = 1\n",
    "    print(0)\n",
    "except:\n",
    "    print(-1)"
   ]
  },
  {
   "cell_type": "code",
   "execution_count": null,
   "metadata": {
    "collapsed": false
   },
   "outputs": [],
   "source": [
    "t = [0, 1, 2, 3], 4, 5, 6\n",
    "\n",
    "try:\n",
    "    t[0] = 1\n",
    "    print(0)\n",
    "except:\n",
    "    print(-1)"
   ]
  },
  {
   "cell_type": "code",
   "execution_count": null,
   "metadata": {
    "collapsed": false
   },
   "outputs": [],
   "source": [
    "t = [0, 1, 2, 3], 4, 5, 6\n",
    "\n",
    "try:\n",
    "    t[0][0] = 1\n",
    "    print(0)\n",
    "except:\n",
    "    print(-1)"
   ]
  },
  {
   "cell_type": "code",
   "execution_count": null,
   "metadata": {
    "collapsed": false
   },
   "outputs": [],
   "source": [
    "t = [0, 1, 2, 3], 4, 5, 6\n",
    "\n",
    "try:\n",
    "    del t[0]\n",
    "    print(0)\n",
    "except:\n",
    "    print(-1)"
   ]
  },
  {
   "cell_type": "code",
   "execution_count": null,
   "metadata": {
    "collapsed": false
   },
   "outputs": [],
   "source": [
    "t = [0, 1, 2, 3], 4, 5, 6\n",
    "\n",
    "try:\n",
    "    del t[0][0]\n",
    "    print(0)\n",
    "except:\n",
    "    print(-1)"
   ]
  },
  {
   "cell_type": "code",
   "execution_count": null,
   "metadata": {
    "collapsed": false
   },
   "outputs": [],
   "source": [
    "e = ()\n",
    "try:\n",
    "    print(len(e))\n",
    "except:\n",
    "    print(-1)"
   ]
  },
  {
   "cell_type": "code",
   "execution_count": null,
   "metadata": {
    "collapsed": false
   },
   "outputs": [],
   "source": [
    "e = (1, None)\n",
    "try:\n",
    "    print(len(e))\n",
    "except:\n",
    "    print(-1)"
   ]
  },
  {
   "cell_type": "code",
   "execution_count": null,
   "metadata": {
    "collapsed": false
   },
   "outputs": [],
   "source": [
    "e = (1,)\n",
    "try:\n",
    "    print(len(e))\n",
    "except:\n",
    "    print(-1)"
   ]
  },
  {
   "cell_type": "code",
   "execution_count": null,
   "metadata": {
    "collapsed": false
   },
   "outputs": [],
   "source": [
    "e = (None,)\n",
    "try:\n",
    "    print(len(e))\n",
    "except:\n",
    "    print(-1)"
   ]
  },
  {
   "cell_type": "code",
   "execution_count": null,
   "metadata": {
    "collapsed": false
   },
   "outputs": [],
   "source": [
    "e = (None)\n",
    "try:\n",
    "    print(len(e))\n",
    "except:\n",
    "    print(-1)"
   ]
  },
  {
   "cell_type": "code",
   "execution_count": null,
   "metadata": {
    "collapsed": false
   },
   "outputs": [],
   "source": [
    "a = ([1], [2, 2], [3, 3, 3])\n",
    "x, y, z = a\n",
    "print(len(y))"
   ]
  },
  {
   "cell_type": "markdown",
   "metadata": {},
   "source": [
    "### Sets"
   ]
  },
  {
   "cell_type": "code",
   "execution_count": null,
   "metadata": {
    "collapsed": false
   },
   "outputs": [],
   "source": [
    "s = {i + j for i in range(5) for j in range(3) if i + j < 3}\n",
    "print(len(s))"
   ]
  },
  {
   "cell_type": "code",
   "execution_count": null,
   "metadata": {
    "collapsed": false
   },
   "outputs": [],
   "source": [
    "s = {s for s in 'banana'}\n",
    "print(len(s))"
   ]
  },
  {
   "cell_type": "code",
   "execution_count": null,
   "metadata": {
    "collapsed": false
   },
   "outputs": [],
   "source": [
    "s = {i for i in range(5)}\n",
    "t = {i for i in range(2, 7)}\n",
    "print(len(s & t))"
   ]
  },
  {
   "cell_type": "code",
   "execution_count": null,
   "metadata": {
    "collapsed": false
   },
   "outputs": [],
   "source": [
    "s = {i for i in range(5)}\n",
    "t = {i for i in range(2, 7)}\n",
    "print(len(s - t))"
   ]
  },
  {
   "cell_type": "code",
   "execution_count": null,
   "metadata": {
    "collapsed": false
   },
   "outputs": [],
   "source": [
    "s = {i for i in range(5)}\n",
    "t = {i for i in range(2, 7)}\n",
    "print(len(s | t))"
   ]
  },
  {
   "cell_type": "code",
   "execution_count": null,
   "metadata": {
    "collapsed": false
   },
   "outputs": [],
   "source": [
    "s = {i for i in range(5)}\n",
    "t = {i for i in range(2, 7)}\n",
    "print(len(s ^ t))"
   ]
  },
  {
   "cell_type": "markdown",
   "metadata": {
    "collapsed": true
   },
   "source": [
    "### Dictionaries"
   ]
  },
  {
   "cell_type": "code",
   "execution_count": null,
   "metadata": {
    "collapsed": false
   },
   "outputs": [],
   "source": [
    "d = {'a': 1, 'b': 2, 'a': 3}\n",
    "print(d['a'])"
   ]
  },
  {
   "cell_type": "code",
   "execution_count": null,
   "metadata": {
    "collapsed": false
   },
   "outputs": [],
   "source": [
    "d = {n: n**2 for n in range(10)}\n",
    "v = 3 in d\n",
    "print(v)"
   ]
  },
  {
   "cell_type": "code",
   "execution_count": null,
   "metadata": {
    "collapsed": false
   },
   "outputs": [],
   "source": [
    "d = {n: n**2 for n in range(10)}\n",
    "v = 4 in d.keys()\n",
    "print(v)"
   ]
  },
  {
   "cell_type": "code",
   "execution_count": null,
   "metadata": {
    "collapsed": false
   },
   "outputs": [],
   "source": [
    "d = {n: n**2 for n in range(10)}\n",
    "v = 81 in d\n",
    "print(v)"
   ]
  },
  {
   "cell_type": "code",
   "execution_count": null,
   "metadata": {
    "collapsed": false
   },
   "outputs": [],
   "source": [
    "d = {n: n**2 for n in range(10)}\n",
    "v = (9, 81) in d\n",
    "print(v)"
   ]
  },
  {
   "cell_type": "code",
   "execution_count": null,
   "metadata": {
    "collapsed": false
   },
   "outputs": [],
   "source": [
    "d = {n: n**2 for n in range(10)}\n",
    "v = (9, 81) in d.items()\n",
    "print(v)"
   ]
  },
  {
   "cell_type": "markdown",
   "metadata": {},
   "source": [
    "### Looping"
   ]
  },
  {
   "cell_type": "code",
   "execution_count": null,
   "metadata": {
    "collapsed": false
   },
   "outputs": [],
   "source": [
    "a = range(3)\n",
    "b = ['a', 'b', 'c']\n",
    "l = [(x, y) for x, y in zip(a, b)]\n",
    "print(l[1])"
   ]
  },
  {
   "cell_type": "code",
   "execution_count": null,
   "metadata": {
    "collapsed": false
   },
   "outputs": [],
   "source": [
    "a = range(3)\n",
    "b = ['a', 'b', 'c', 'd']\n",
    "l = [(x, y) for x, y in zip(a, b)]\n",
    "print(l[-2])"
   ]
  },
  {
   "cell_type": "code",
   "execution_count": null,
   "metadata": {
    "collapsed": false
   },
   "outputs": [],
   "source": [
    "l = [9, 8, 2, 1, 5]\n",
    "print(sorted(l)[-1])"
   ]
  },
  {
   "cell_type": "code",
   "execution_count": null,
   "metadata": {
    "collapsed": false
   },
   "outputs": [],
   "source": [
    "l = ['m45', 'M35', '0ab']\n",
    "print(sorted(l)[0])"
   ]
  },
  {
   "cell_type": "code",
   "execution_count": null,
   "metadata": {
    "collapsed": false
   },
   "outputs": [],
   "source": [
    "l = ['m45', 'M35', '0ab']\n",
    "print(sorted(l)[-1])"
   ]
  },
  {
   "cell_type": "markdown",
   "metadata": {},
   "source": [
    "### Conditions"
   ]
  },
  {
   "cell_type": "code",
   "execution_count": null,
   "metadata": {
    "collapsed": false
   },
   "outputs": [],
   "source": [
    "a = 2\n",
    "b = 3\n",
    "c = 3\n",
    "print(a < b == c)"
   ]
  },
  {
   "cell_type": "code",
   "execution_count": null,
   "metadata": {
    "collapsed": false
   },
   "outputs": [],
   "source": [
    "A = True\n",
    "B = False\n",
    "C = True\n",
    "v = A and not B and C\n",
    "print(v)"
   ]
  },
  {
   "cell_type": "code",
   "execution_count": null,
   "metadata": {
    "collapsed": false
   },
   "outputs": [],
   "source": [
    "A = True\n",
    "B = False\n",
    "C = True\n",
    "v = A and not (B and C)\n",
    "print(v)"
   ]
  },
  {
   "cell_type": "code",
   "execution_count": null,
   "metadata": {
    "collapsed": false
   },
   "outputs": [],
   "source": [
    "A = True\n",
    "B = False\n",
    "C = True\n",
    "v = (A and not B) and C\n",
    "print(v)"
   ]
  },
  {
   "cell_type": "code",
   "execution_count": null,
   "metadata": {
    "collapsed": false
   },
   "outputs": [],
   "source": [
    "A = True\n",
    "B = False\n",
    "C = True\n",
    "v = not A or not B and not C\n",
    "print(v)"
   ]
  },
  {
   "cell_type": "code",
   "execution_count": null,
   "metadata": {
    "collapsed": false
   },
   "outputs": [],
   "source": [
    "A = True\n",
    "B = False\n",
    "C = True\n",
    "v = not A or not B or not C\n",
    "print(v)"
   ]
  },
  {
   "cell_type": "code",
   "execution_count": null,
   "metadata": {
    "collapsed": false
   },
   "outputs": [],
   "source": [
    "A = True\n",
    "B = False\n",
    "C = True\n",
    "v = not A or (B or not C)\n",
    "print(v)"
   ]
  },
  {
   "cell_type": "code",
   "execution_count": null,
   "metadata": {
    "collapsed": false
   },
   "outputs": [],
   "source": [
    "v = (1, 2, 5) < (0, 4, 9)\n",
    "print(v)"
   ]
  },
  {
   "cell_type": "code",
   "execution_count": null,
   "metadata": {
    "collapsed": false
   },
   "outputs": [],
   "source": [
    "v = (1.0, 2, 3) == (1, 2.0, 3.0)\n",
    "print(v)"
   ]
  },
  {
   "cell_type": "code",
   "execution_count": null,
   "metadata": {
    "collapsed": false
   },
   "outputs": [],
   "source": [
    "v = [1, \"a\", (\"b\", \"c\")] < [1, 'a', (\"bc\", \"a\")]\n",
    "print(v)"
   ]
  },
  {
   "cell_type": "code",
   "execution_count": null,
   "metadata": {
    "collapsed": false
   },
   "outputs": [],
   "source": [
    "v = (1.0, 2, 3) == [1, 2, 3]\n",
    "print(v)"
   ]
  }
 ],
 "metadata": {
  "kernelspec": {
   "display_name": "Python 3",
   "language": "python",
   "name": "python3"
  },
  "language_info": {
   "codemirror_mode": {
    "name": "ipython",
    "version": 3
   },
   "file_extension": ".py",
   "mimetype": "text/x-python",
   "name": "python",
   "nbconvert_exporter": "python",
   "pygments_lexer": "ipython3",
   "version": "3.4.3"
  }
 },
 "nbformat": 4,
 "nbformat_minor": 0
}
