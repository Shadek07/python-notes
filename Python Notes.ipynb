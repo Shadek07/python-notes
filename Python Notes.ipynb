{
 "cells": [
  {
   "cell_type": "markdown",
   "metadata": {},
   "source": [
    "# Python Notes"
   ]
  },
  {
   "cell_type": "markdown",
   "metadata": {},
   "source": [
    "## Numbers, Strings, Lists\n",
    "\n",
    "This part corresponds to the [the 3rd chapter](https://docs.python.org/3.4/tutorial/introduction.html) of the Python tutorial.\n",
    "\n",
    "What will the following cells print?"
   ]
  },
  {
   "cell_type": "code",
   "execution_count": null,
   "metadata": {
    "collapsed": false
   },
   "outputs": [],
   "source": [
    "a = [0, 1, 2, 3]\n",
    "a[1:2] = [13, 14, 15]\n",
    "print(a[2])"
   ]
  },
  {
   "cell_type": "code",
   "execution_count": null,
   "metadata": {
    "collapsed": false
   },
   "outputs": [],
   "source": [
    "a = [0, 1, 2, 3]\n",
    "a[-3:] = [2]\n",
    "print(a[-1])"
   ]
  },
  {
   "cell_type": "markdown",
   "metadata": {
    "collapsed": true
   },
   "source": [
    "## Functions"
   ]
  },
  {
   "cell_type": "markdown",
   "metadata": {},
   "source": [
    "This part corresponds to the [4th chapter](https://docs.python.org/3.4/tutorial/controlflow.html) of the Python tutorial.\n",
    "\n",
    "What will the following cells print?"
   ]
  },
  {
   "cell_type": "code",
   "execution_count": null,
   "metadata": {
    "collapsed": false
   },
   "outputs": [],
   "source": [
    "x = range(5)\n",
    "\n",
    "result = []\n",
    "\n",
    "for i in x:\n",
    "    result.append(i)\n",
    "\n",
    "for i in x:\n",
    "    result.append(i)\n",
    "    \n",
    "print(len(result))"
   ]
  },
  {
   "cell_type": "code",
   "execution_count": null,
   "metadata": {
    "collapsed": false
   },
   "outputs": [],
   "source": [
    "def foo(n):\n",
    "    for i in range(n):\n",
    "        yield i\n",
    "\n",
    "x = foo(5)\n",
    "result = []\n",
    "\n",
    "for i in x:\n",
    "    result.append(i)\n",
    "\n",
    "for i in x:\n",
    "    result.append(i)\n",
    "    \n",
    "print(len(result))"
   ]
  },
  {
   "cell_type": "code",
   "execution_count": null,
   "metadata": {
    "collapsed": false
   },
   "outputs": [],
   "source": [
    "foo = lambda n: range(n)\n",
    "\n",
    "x = foo(5)\n",
    "result = []\n",
    "\n",
    "for i in x:\n",
    "    result.append(i)\n",
    "\n",
    "for i in x:\n",
    "    result.append(i)\n",
    "    \n",
    "print(len(result))"
   ]
  },
  {
   "cell_type": "markdown",
   "metadata": {
    "collapsed": true
   },
   "source": [
    "***"
   ]
  },
  {
   "cell_type": "code",
   "execution_count": null,
   "metadata": {
    "collapsed": false
   },
   "outputs": [],
   "source": [
    "def foo(a):\n",
    "    if a == 1:\n",
    "        print(\"One\")\n",
    "    elif a % 2 == 0:\n",
    "        print(\"Even\")\n",
    "    elif a % 7 == 0:\n",
    "        pass\n",
    "    else:\n",
    "        print(\"Blah\")\n",
    "\n",
    "num = 14\n",
    "foo(num)\n",
    "\n"
   ]
  },
  {
   "cell_type": "code",
   "execution_count": null,
   "metadata": {
    "collapsed": false
   },
   "outputs": [],
   "source": [
    "l = [1, 2, 4, 5, 13]\n",
    "for num in l:\n",
    "    if num % 3 == 0:\n",
    "        print(\"3 | {}\", num)\n",
    "        break\n",
    "else:\n",
    "    print(\"Nope\")"
   ]
  },
  {
   "cell_type": "markdown",
   "metadata": {},
   "source": [
    "***"
   ]
  },
  {
   "cell_type": "code",
   "execution_count": null,
   "metadata": {
    "collapsed": false
   },
   "outputs": [],
   "source": [
    "def foo(x, a = []):\n",
    "    a.append(x)\n",
    "    return(len(a))\n",
    "\n",
    "chars = []\n",
    "\n",
    "foo(5)\n",
    "foo(2)\n",
    "foo('a', chars)\n",
    "result = foo(6)\n",
    "\n",
    "print(result)"
   ]
  },
  {
   "cell_type": "code",
   "execution_count": null,
   "metadata": {
    "collapsed": false
   },
   "outputs": [],
   "source": [
    "L = []\n",
    "\n",
    "def foo(x, a = L):\n",
    "    a.append(x)\n",
    "    return(len(a))\n",
    "\n",
    "foo(5)\n",
    "foo(2)\n",
    "L.append(21)\n",
    "result = foo(6)\n",
    "\n",
    "print(result)"
   ]
  },
  {
   "cell_type": "code",
   "execution_count": null,
   "metadata": {
    "collapsed": false
   },
   "outputs": [],
   "source": [
    "L = []\n",
    "\n",
    "def foo(x, a = L[:]):\n",
    "    a.append(x)\n",
    "    return(len(a))\n",
    "\n",
    "foo(5)\n",
    "foo(2)\n",
    "L.append(21)\n",
    "result = foo(6)\n",
    "\n",
    "print(result)"
   ]
  },
  {
   "cell_type": "markdown",
   "metadata": {},
   "source": [
    "***"
   ]
  },
  {
   "cell_type": "code",
   "execution_count": 2,
   "metadata": {
    "collapsed": false
   },
   "outputs": [
    {
     "name": "stdout",
     "output_type": "stream",
     "text": [
      "None\n"
     ]
    }
   ],
   "source": [
    "def foo():\n",
    "    pass\n",
    "\n",
    "a = foo()\n",
    "print(a)"
   ]
  },
  {
   "cell_type": "code",
   "execution_count": 6,
   "metadata": {
    "collapsed": false
   },
   "outputs": [
    {
     "name": "stdout",
     "output_type": "stream",
     "text": [
      "14\n"
     ]
    }
   ],
   "source": [
    "b = 13\n",
    "\n",
    "def foo(a, b = b):\n",
    "    b += a\n",
    "    return b\n",
    "\n",
    "b = foo(1, 3)\n",
    "foo(5, 4)\n",
    "foo(2)\n",
    "\n",
    "result = foo(1)\n",
    "print(result)"
   ]
  },
  {
   "cell_type": "markdown",
   "metadata": {},
   "source": [
    "***"
   ]
  },
  {
   "cell_type": "code",
   "execution_count": 16,
   "metadata": {
    "collapsed": false
   },
   "outputs": [
    {
     "name": "stdout",
     "output_type": "stream",
     "text": [
      "10\n"
     ]
    }
   ],
   "source": [
    "def boo(a, b, *other):\n",
    "    f = sum(other)\n",
    "    result = (a + b) * f\n",
    "    return result\n",
    "\n",
    "result = boo(3, 2, 1, 1)\n",
    "print(result)"
   ]
  },
  {
   "cell_type": "code",
   "execution_count": 21,
   "metadata": {
    "collapsed": false
   },
   "outputs": [
    {
     "name": "stdout",
     "output_type": "stream",
     "text": [
      "0\n"
     ]
    }
   ],
   "source": [
    "def hoo(a, b, *other):\n",
    "    f = sum(other)\n",
    "    result = (a + b) * f\n",
    "    return result\n",
    "\n",
    "args = list(range(3, 1, -1))\n",
    "result = boo(*args)\n",
    "print(result)"
   ]
  },
  {
   "cell_type": "code",
   "execution_count": 35,
   "metadata": {
    "collapsed": false
   },
   "outputs": [
    {
     "name": "stdout",
     "output_type": "stream",
     "text": [
      "20\n"
     ]
    }
   ],
   "source": [
    "def g(a, b = 1, *args):\n",
    "    s = a + b\n",
    "    if args:\n",
    "        s *= args[0]\n",
    "       \n",
    "    return s\n",
    "\n",
    "result = g(2, 3, 4)\n",
    "print(result)"
   ]
  },
  {
   "cell_type": "code",
   "execution_count": 36,
   "metadata": {
    "collapsed": false
   },
   "outputs": [
    {
     "name": "stdout",
     "output_type": "stream",
     "text": [
      "6\n"
     ]
    }
   ],
   "source": [
    "def g(a, b = 1, *args):\n",
    "    s = a + b\n",
    "    if args:\n",
    "        s *= args[0]\n",
    "       \n",
    "    return s\n",
    "\n",
    "result = g(2, 4)\n",
    "print(result)"
   ]
  },
  {
   "cell_type": "code",
   "execution_count": 41,
   "metadata": {
    "collapsed": false
   },
   "outputs": [
    {
     "name": "stdout",
     "output_type": "stream",
     "text": [
      "28\n"
     ]
    }
   ],
   "source": [
    "def g(a, b = 1, *args, **kwds):\n",
    "    s = a + b\n",
    "    if args:\n",
    "        s *= args[0]\n",
    "    \n",
    "    if 'minus' in kwds:\n",
    "        s -= kwds['minus']\n",
    "        \n",
    "    return s\n",
    "\n",
    "result = g(9, 1, 3, minus = 2)\n",
    "print(result)"
   ]
  },
  {
   "cell_type": "code",
   "execution_count": null,
   "metadata": {
    "collapsed": true
   },
   "outputs": [],
   "source": []
  }
 ],
 "metadata": {
  "kernelspec": {
   "display_name": "Python 3",
   "language": "python",
   "name": "python3"
  },
  "language_info": {
   "codemirror_mode": {
    "name": "ipython",
    "version": 3
   },
   "file_extension": ".py",
   "mimetype": "text/x-python",
   "name": "python",
   "nbconvert_exporter": "python",
   "pygments_lexer": "ipython3",
   "version": "3.4.3"
  }
 },
 "nbformat": 4,
 "nbformat_minor": 0
}
