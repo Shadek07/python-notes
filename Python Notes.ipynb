{
 "cells": [
  {
   "cell_type": "markdown",
   "metadata": {},
   "source": [
    "# Python Notes"
   ]
  },
  {
   "cell_type": "markdown",
   "metadata": {},
   "source": [
    "## Numbers, Strings, Lists\n",
    "\n",
    "This part corresponds to the [the 3rd chapter](https://docs.python.org/3.4/tutorial/introduction.html) of the Python tutorial.\n",
    "\n",
    "What will the following cells print?"
   ]
  },
  {
   "cell_type": "code",
   "execution_count": null,
   "metadata": {
    "collapsed": false
   },
   "outputs": [],
   "source": [
    "a = [0, 1, 2, 3]\n",
    "a[1:2] = [13, 14, 15]\n",
    "print(a[2])"
   ]
  },
  {
   "cell_type": "code",
   "execution_count": null,
   "metadata": {
    "collapsed": false
   },
   "outputs": [],
   "source": [
    "a = [0, 1, 2, 3]\n",
    "a[-3:] = [2]\n",
    "print(a[-1])"
   ]
  },
  {
   "cell_type": "markdown",
   "metadata": {
    "collapsed": true
   },
   "source": [
    "## Functions"
   ]
  },
  {
   "cell_type": "markdown",
   "metadata": {},
   "source": [
    "This part corresponds to the [4th chapter](https://docs.python.org/3.4/tutorial/controlflow.html) of the Python tutorial.\n",
    "\n",
    "What will the following cells print?"
   ]
  },
  {
   "cell_type": "code",
   "execution_count": null,
   "metadata": {
    "collapsed": false
   },
   "outputs": [],
   "source": [
    "x = range(5)\n",
    "\n",
    "result = []\n",
    "\n",
    "for i in x:\n",
    "    result.append(i)\n",
    "\n",
    "for i in x:\n",
    "    result.append(i)\n",
    "    \n",
    "print(len(result))"
   ]
  },
  {
   "cell_type": "code",
   "execution_count": null,
   "metadata": {
    "collapsed": false
   },
   "outputs": [],
   "source": [
    "def foo(n):\n",
    "    for i in range(n):\n",
    "        yield i\n",
    "\n",
    "x = foo(5)\n",
    "result = []\n",
    "\n",
    "for i in x:\n",
    "    result.append(i)\n",
    "\n",
    "for i in x:\n",
    "    result.append(i)\n",
    "    \n",
    "print(len(result))"
   ]
  },
  {
   "cell_type": "code",
   "execution_count": null,
   "metadata": {
    "collapsed": false
   },
   "outputs": [],
   "source": [
    "foo = lambda n: range(n)\n",
    "\n",
    "x = foo(5)\n",
    "result = []\n",
    "\n",
    "for i in x:\n",
    "    result.append(i)\n",
    "\n",
    "for i in x:\n",
    "    result.append(i)\n",
    "    \n",
    "print(len(result))"
   ]
  },
  {
   "cell_type": "code",
   "execution_count": null,
   "metadata": {
    "collapsed": true
   },
   "outputs": [],
   "source": []
  }
 ],
 "metadata": {
  "kernelspec": {
   "display_name": "Python 3",
   "language": "python",
   "name": "python3"
  },
  "language_info": {
   "codemirror_mode": {
    "name": "ipython",
    "version": 3
   },
   "file_extension": ".py",
   "mimetype": "text/x-python",
   "name": "python",
   "nbconvert_exporter": "python",
   "pygments_lexer": "ipython3",
   "version": "3.4.3"
  }
 },
 "nbformat": 4,
 "nbformat_minor": 0
}
